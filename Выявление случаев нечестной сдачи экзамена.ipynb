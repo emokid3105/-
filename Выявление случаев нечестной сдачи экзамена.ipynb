{
 "cells": [
  {
   "cell_type": "markdown",
   "id": "c839762d-5ed2-43c9-98ab-35ef95129709",
   "metadata": {},
   "source": [
    "<h1>Выявление случаев нечестной сдачи экзамена</h1>"
   ]
  },
  {
   "cell_type": "markdown",
   "id": "196088f6-f2a4-4cb4-819f-8bb354eb0c1e",
   "metadata": {},
   "source": [
    "<h2>Условия</h2>"
   ]
  },
  {
   "cell_type": "markdown",
   "id": "cb6ba65a-ce1c-4acd-82a1-ef3102167899",
   "metadata": {},
   "source": [
    "<p>Экзамены проводятся в следующем формате: ученики приходят в специальный компьютерный класс, каждый садится за индивидуальный компьютер, открывает систему и начинает решать задачи.</p>\n",
    "<p>Задания в системе выдаются по очереди: после того, как студент ответил, его ответ сохраняется и выдается следующее задание. К предыдущим заданиям вернуться нельзя. Также в экзамене нет вопросов с письменным ответом, можно только выбрать пункт из списка.</p>"
   ]
  },
  {
   "cell_type": "markdown",
   "id": "fb05f575-3b9a-4a73-ba73-4f49188a4f58",
   "metadata": {},
   "source": [
    "<h2>Задача</h2>"
   ]
  },
  {
   "cell_type": "markdown",
   "id": "8c5624ac-6679-49f4-b5f6-95b620be68eb",
   "metadata": {},
   "source": [
    "<p>Проанализировать данные о проведении экзаменов и проинформировать коллег о подозрительном поведении учеников, если оно имело место быть.</p>"
   ]
  },
  {
   "cell_type": "markdown",
   "id": "c19148ca-5b8d-4ae1-ba96-365c80b5de7b",
   "metadata": {},
   "source": [
    "<h2>Данные</h2>"
   ]
  },
  {
   "cell_type": "markdown",
   "id": "1c797d84-81b7-448b-8ab8-b8c7c6a86a42",
   "metadata": {},
   "source": [
    "<h3>exam.csv</h3>\n",
    "<p>В данном файле хранится общая информация о проведенных экзаменах.</p>\n",
    "<ul>\n",
    "    <li><b>id</b> - идентификатор экзамена.</li>\n",
    "    <li><b>start_date</b> - время начала экзамена.</li>\n",
    "    <li><b>tasks_cnt</b> - количество заданий в экзамене.</li>\n",
    "</ul>"
   ]
  },
  {
   "cell_type": "markdown",
   "id": "9ed8a05b-8a3c-498b-9d18-77b0cf8f1925",
   "metadata": {},
   "source": [
    "<h3> user_answer.csv</h3>\n",
    "<p>Здесь собрана информация о показателях каждого ученика на экзамене.</p>\n",
    "<ul>\n",
    "    <li><b>exam_id</b> - идентификатор экзамена, который решал ученик.</li>\n",
    "    <li><b>user_id</b> - идентификатор ученика в системе.</li>\n",
    "    <li><b>task_ind</b> - номер задания, на которое ученик дал ответ.</li>\n",
    "    <li><b>answer</b> -  ответ, который дал ученик на данное задание. Ответ представляется в виде целого числа — номера ответа, который выбрал ученик.</li>\n",
    "    <li><b>verdict</b> - вердикт экзаменационной системы по ответу ученика. Равен «OK» в случае, если ученик дал правильный ответ, и равен «WA» в противном случае.</li>\n",
    "    <li><b>time</b> - момент времени, в который ученик дал ответ на задание. Формат момента времени: %Y-%m-%d %H-%M-%S.</li>\n",
    "</ul>"
   ]
  },
  {
   "cell_type": "markdown",
   "id": "d6fb5142-3cea-4102-8cdd-1276c9522f89",
   "metadata": {},
   "source": [
    "<h2>Гипотезы</h2>\n"
   ]
  },
  {
   "cell_type": "markdown",
   "id": "6bceeb51-7f85-4c2e-b33d-53a64c6569e3",
   "metadata": {},
   "source": [
    "<h3>1. Ученик списал будучи на экзамене</h3>\n",
    "<p>Метрики для проверки гипотезы:</p>\n",
    "<ul>\n",
    "    <li>Доля одинаковых ответов</li>\n",
    "</ul>"
   ]
  },
  {
   "cell_type": "markdown",
   "id": "0d8a4ec3-9fc5-4d05-99d3-967cb724af9b",
   "metadata": {},
   "source": [
    "<h3>2. Ученик пришел с готовыми ответами</h3>\n",
    "<p>Метрики для проверки гипотезы:</p>\n",
    "<ul>\n",
    "    <li>Время завершения экзамена</li>\n",
    "</ul>"
   ]
  },
  {
   "cell_type": "markdown",
   "id": "0d782557-fcdc-48df-b9c9-af3fd07177c7",
   "metadata": {},
   "source": [
    "<h2>Предобработка данных</h2>"
   ]
  },
  {
   "cell_type": "code",
   "execution_count": 1,
   "id": "6b98d920-d8c9-4b96-87b4-5d26fb9f56e5",
   "metadata": {},
   "outputs": [],
   "source": [
    "# импорт библиотек\n",
    "import pandas as pd\n",
    "import seaborn as sns"
   ]
  },
  {
   "cell_type": "code",
   "execution_count": 2,
   "id": "ab1330ec-7366-41df-a9bd-0800547493dc",
   "metadata": {},
   "outputs": [],
   "source": [
    "# чтение файлов\n",
    "exam = pd.read_csv(\"exam.csv\")\n",
    "user_answer = pd.read_csv(\"user_answer.csv\")"
   ]
  },
  {
   "cell_type": "code",
   "execution_count": 3,
   "id": "b2f0bd6b-f58e-4b03-b341-6ae6b587a773",
   "metadata": {},
   "outputs": [
    {
     "data": {
      "text/html": [
       "<div>\n",
       "<style scoped>\n",
       "    .dataframe tbody tr th:only-of-type {\n",
       "        vertical-align: middle;\n",
       "    }\n",
       "\n",
       "    .dataframe tbody tr th {\n",
       "        vertical-align: top;\n",
       "    }\n",
       "\n",
       "    .dataframe thead th {\n",
       "        text-align: right;\n",
       "    }\n",
       "</style>\n",
       "<table border=\"1\" class=\"dataframe\">\n",
       "  <thead>\n",
       "    <tr style=\"text-align: right;\">\n",
       "      <th></th>\n",
       "      <th>id</th>\n",
       "      <th>start_date</th>\n",
       "      <th>tasks_cnt</th>\n",
       "    </tr>\n",
       "  </thead>\n",
       "  <tbody>\n",
       "    <tr>\n",
       "      <th>0</th>\n",
       "      <td>1</td>\n",
       "      <td>2023-12-15 10:00:00</td>\n",
       "      <td>16</td>\n",
       "    </tr>\n",
       "    <tr>\n",
       "      <th>1</th>\n",
       "      <td>2</td>\n",
       "      <td>2023-12-20 10:00:00</td>\n",
       "      <td>4</td>\n",
       "    </tr>\n",
       "  </tbody>\n",
       "</table>\n",
       "</div>"
      ],
      "text/plain": [
       "   id           start_date  tasks_cnt\n",
       "0   1  2023-12-15 10:00:00         16\n",
       "1   2  2023-12-20 10:00:00          4"
      ]
     },
     "execution_count": 3,
     "metadata": {},
     "output_type": "execute_result"
    }
   ],
   "source": [
    "exam"
   ]
  },
  {
   "cell_type": "code",
   "execution_count": 4,
   "id": "765adf51-a119-4d32-adda-806886656959",
   "metadata": {
    "scrolled": true
   },
   "outputs": [
    {
     "data": {
      "text/html": [
       "<div>\n",
       "<style scoped>\n",
       "    .dataframe tbody tr th:only-of-type {\n",
       "        vertical-align: middle;\n",
       "    }\n",
       "\n",
       "    .dataframe tbody tr th {\n",
       "        vertical-align: top;\n",
       "    }\n",
       "\n",
       "    .dataframe thead th {\n",
       "        text-align: right;\n",
       "    }\n",
       "</style>\n",
       "<table border=\"1\" class=\"dataframe\">\n",
       "  <thead>\n",
       "    <tr style=\"text-align: right;\">\n",
       "      <th></th>\n",
       "      <th>exam_id</th>\n",
       "      <th>user_id</th>\n",
       "      <th>task_ind</th>\n",
       "      <th>answer</th>\n",
       "      <th>verdict</th>\n",
       "      <th>time</th>\n",
       "    </tr>\n",
       "  </thead>\n",
       "  <tbody>\n",
       "    <tr>\n",
       "      <th>0</th>\n",
       "      <td>1</td>\n",
       "      <td>98</td>\n",
       "      <td>1</td>\n",
       "      <td>1</td>\n",
       "      <td>OK</td>\n",
       "      <td>2023-12-15 10-22-51</td>\n",
       "    </tr>\n",
       "    <tr>\n",
       "      <th>1</th>\n",
       "      <td>1</td>\n",
       "      <td>98</td>\n",
       "      <td>2</td>\n",
       "      <td>0</td>\n",
       "      <td>WA</td>\n",
       "      <td>2023-12-15 11-16-21</td>\n",
       "    </tr>\n",
       "    <tr>\n",
       "      <th>2</th>\n",
       "      <td>1</td>\n",
       "      <td>98</td>\n",
       "      <td>3</td>\n",
       "      <td>1</td>\n",
       "      <td>OK</td>\n",
       "      <td>2023-12-15 11-28-44</td>\n",
       "    </tr>\n",
       "    <tr>\n",
       "      <th>3</th>\n",
       "      <td>1</td>\n",
       "      <td>98</td>\n",
       "      <td>4</td>\n",
       "      <td>0</td>\n",
       "      <td>WA</td>\n",
       "      <td>2023-12-15 11-54-32</td>\n",
       "    </tr>\n",
       "    <tr>\n",
       "      <th>4</th>\n",
       "      <td>1</td>\n",
       "      <td>98</td>\n",
       "      <td>5</td>\n",
       "      <td>0</td>\n",
       "      <td>WA</td>\n",
       "      <td>2023-12-15 12-30-11</td>\n",
       "    </tr>\n",
       "  </tbody>\n",
       "</table>\n",
       "</div>"
      ],
      "text/plain": [
       "   exam_id  user_id  task_ind  answer verdict                 time\n",
       "0        1       98         1       1      OK  2023-12-15 10-22-51\n",
       "1        1       98         2       0      WA  2023-12-15 11-16-21\n",
       "2        1       98         3       1      OK  2023-12-15 11-28-44\n",
       "3        1       98         4       0      WA  2023-12-15 11-54-32\n",
       "4        1       98         5       0      WA  2023-12-15 12-30-11"
      ]
     },
     "execution_count": 4,
     "metadata": {},
     "output_type": "execute_result"
    }
   ],
   "source": [
    "user_answer.head()"
   ]
  },
  {
   "cell_type": "markdown",
   "id": "a268d0c9-c3d8-49d7-b58b-a9001d40b17e",
   "metadata": {},
   "source": [
    "<h3>user_answer</h3>"
   ]
  },
  {
   "cell_type": "code",
   "execution_count": 5,
   "id": "34dae56c-a184-466a-9615-cd854f04cb72",
   "metadata": {},
   "outputs": [
    {
     "data": {
      "text/plain": [
       "exam_id     0\n",
       "user_id     0\n",
       "task_ind    0\n",
       "answer      0\n",
       "verdict     0\n",
       "time        0\n",
       "dtype: int64"
      ]
     },
     "execution_count": 5,
     "metadata": {},
     "output_type": "execute_result"
    }
   ],
   "source": [
    "user_answer.isna().sum()"
   ]
  },
  {
   "cell_type": "code",
   "execution_count": 6,
   "id": "2ef62b92-b148-4fd7-893e-730e6780a58d",
   "metadata": {},
   "outputs": [
    {
     "data": {
      "text/plain": [
       "exam_id      int64\n",
       "user_id      int64\n",
       "task_ind     int64\n",
       "answer       int64\n",
       "verdict     object\n",
       "time        object\n",
       "dtype: object"
      ]
     },
     "execution_count": 6,
     "metadata": {},
     "output_type": "execute_result"
    }
   ],
   "source": [
    "user_answer.dtypes"
   ]
  },
  {
   "cell_type": "code",
   "execution_count": 7,
   "id": "bc86335a-d1da-4f0f-ad60-3a2d1ad0dc0b",
   "metadata": {},
   "outputs": [],
   "source": [
    "user_answer['time'] = pd.to_datetime(user_answer['time'],\n",
    "                                    format='%Y-%m-%d %H-%M-%S')"
   ]
  },
  {
   "cell_type": "code",
   "execution_count": 8,
   "id": "44ff28d9-f242-4c26-83f9-3c9fd457b566",
   "metadata": {},
   "outputs": [
    {
     "data": {
      "text/plain": [
       "dtype('<M8[ns]')"
      ]
     },
     "execution_count": 8,
     "metadata": {},
     "output_type": "execute_result"
    }
   ],
   "source": [
    "user_answer['time'].dtype"
   ]
  },
  {
   "cell_type": "markdown",
   "id": "17fb91a5-7433-4a0e-ba05-6905b3bad296",
   "metadata": {},
   "source": [
    "<h3>exam</h3>"
   ]
  },
  {
   "cell_type": "code",
   "execution_count": 9,
   "id": "e5307f93-4caf-4209-9379-65b36994038b",
   "metadata": {},
   "outputs": [
    {
     "data": {
      "text/plain": [
       "id             int64\n",
       "start_date    object\n",
       "tasks_cnt      int64\n",
       "dtype: object"
      ]
     },
     "execution_count": 9,
     "metadata": {},
     "output_type": "execute_result"
    }
   ],
   "source": [
    "exam.dtypes"
   ]
  },
  {
   "cell_type": "code",
   "execution_count": 10,
   "id": "d25cd2aa-8fb7-4080-9609-439cb0a88a09",
   "metadata": {},
   "outputs": [],
   "source": [
    "exam['start_date'] = pd.to_datetime(exam['start_date'],\n",
    "                                   format='%Y-%m-%d %H:%M:%S')"
   ]
  },
  {
   "cell_type": "code",
   "execution_count": 11,
   "id": "7038c9f9-02ad-4475-9e72-aec12dcf6403",
   "metadata": {},
   "outputs": [
    {
     "data": {
      "text/plain": [
       "dtype('<M8[ns]')"
      ]
     },
     "execution_count": 11,
     "metadata": {},
     "output_type": "execute_result"
    }
   ],
   "source": [
    "exam['start_date'].dtype"
   ]
  },
  {
   "cell_type": "markdown",
   "id": "e7e950b4-bc74-497c-a138-87656dae59a1",
   "metadata": {},
   "source": [
    "<h2>Вычисление метрик</h2>\n",
    "<h3>Списывание у коллег</h3>\n",
    "<p>Сравним ответы одного ученика с ответами другого ученика</p>"
   ]
  },
  {
   "cell_type": "code",
   "execution_count": 134,
   "id": "5ec6db2e-44b5-409b-9ae9-c5900eeab30b",
   "metadata": {},
   "outputs": [],
   "source": [
    "# делим датасет на 2 части: 1 вариант и 2 вариант\n",
    "v1 = user_answer[user_answer['exam_id'] == 1]\n",
    "v2 = user_answer[user_answer['exam_id'] == 2]"
   ]
  },
  {
   "cell_type": "markdown",
   "id": "57b69793-6a18-46dc-b910-2d8eba3378b4",
   "metadata": {},
   "source": [
    "<h3>Вариант 1</h3>"
   ]
  },
  {
   "cell_type": "code",
   "execution_count": 135,
   "id": "4f361e8f-b54b-4179-81e0-1893fbcf2811",
   "metadata": {},
   "outputs": [
    {
     "data": {
      "text/html": [
       "<div>\n",
       "<style scoped>\n",
       "    .dataframe tbody tr th:only-of-type {\n",
       "        vertical-align: middle;\n",
       "    }\n",
       "\n",
       "    .dataframe tbody tr th {\n",
       "        vertical-align: top;\n",
       "    }\n",
       "\n",
       "    .dataframe thead th {\n",
       "        text-align: right;\n",
       "    }\n",
       "</style>\n",
       "<table border=\"1\" class=\"dataframe\">\n",
       "  <thead>\n",
       "    <tr style=\"text-align: right;\">\n",
       "      <th></th>\n",
       "      <th>exam_id</th>\n",
       "      <th>user_id</th>\n",
       "      <th>task_ind</th>\n",
       "      <th>answer</th>\n",
       "      <th>verdict</th>\n",
       "      <th>time</th>\n",
       "    </tr>\n",
       "  </thead>\n",
       "  <tbody>\n",
       "    <tr>\n",
       "      <th>0</th>\n",
       "      <td>1</td>\n",
       "      <td>98</td>\n",
       "      <td>1</td>\n",
       "      <td>1</td>\n",
       "      <td>OK</td>\n",
       "      <td>2023-12-15 10:22:51</td>\n",
       "    </tr>\n",
       "    <tr>\n",
       "      <th>1</th>\n",
       "      <td>1</td>\n",
       "      <td>98</td>\n",
       "      <td>2</td>\n",
       "      <td>0</td>\n",
       "      <td>WA</td>\n",
       "      <td>2023-12-15 11:16:21</td>\n",
       "    </tr>\n",
       "    <tr>\n",
       "      <th>2</th>\n",
       "      <td>1</td>\n",
       "      <td>98</td>\n",
       "      <td>3</td>\n",
       "      <td>1</td>\n",
       "      <td>OK</td>\n",
       "      <td>2023-12-15 11:28:44</td>\n",
       "    </tr>\n",
       "    <tr>\n",
       "      <th>3</th>\n",
       "      <td>1</td>\n",
       "      <td>98</td>\n",
       "      <td>4</td>\n",
       "      <td>0</td>\n",
       "      <td>WA</td>\n",
       "      <td>2023-12-15 11:54:32</td>\n",
       "    </tr>\n",
       "    <tr>\n",
       "      <th>4</th>\n",
       "      <td>1</td>\n",
       "      <td>98</td>\n",
       "      <td>5</td>\n",
       "      <td>0</td>\n",
       "      <td>WA</td>\n",
       "      <td>2023-12-15 12:30:11</td>\n",
       "    </tr>\n",
       "    <tr>\n",
       "      <th>...</th>\n",
       "      <td>...</td>\n",
       "      <td>...</td>\n",
       "      <td>...</td>\n",
       "      <td>...</td>\n",
       "      <td>...</td>\n",
       "      <td>...</td>\n",
       "    </tr>\n",
       "    <tr>\n",
       "      <th>2235</th>\n",
       "      <td>1</td>\n",
       "      <td>89</td>\n",
       "      <td>12</td>\n",
       "      <td>3</td>\n",
       "      <td>OK</td>\n",
       "      <td>2023-12-15 10:03:36</td>\n",
       "    </tr>\n",
       "    <tr>\n",
       "      <th>2236</th>\n",
       "      <td>1</td>\n",
       "      <td>89</td>\n",
       "      <td>13</td>\n",
       "      <td>2</td>\n",
       "      <td>OK</td>\n",
       "      <td>2023-12-15 10:04:03</td>\n",
       "    </tr>\n",
       "    <tr>\n",
       "      <th>2237</th>\n",
       "      <td>1</td>\n",
       "      <td>89</td>\n",
       "      <td>14</td>\n",
       "      <td>0</td>\n",
       "      <td>OK</td>\n",
       "      <td>2023-12-15 10:04:04</td>\n",
       "    </tr>\n",
       "    <tr>\n",
       "      <th>2238</th>\n",
       "      <td>1</td>\n",
       "      <td>89</td>\n",
       "      <td>15</td>\n",
       "      <td>0</td>\n",
       "      <td>OK</td>\n",
       "      <td>2023-12-15 10:04:09</td>\n",
       "    </tr>\n",
       "    <tr>\n",
       "      <th>2239</th>\n",
       "      <td>1</td>\n",
       "      <td>89</td>\n",
       "      <td>16</td>\n",
       "      <td>1</td>\n",
       "      <td>OK</td>\n",
       "      <td>2023-12-15 10:04:15</td>\n",
       "    </tr>\n",
       "  </tbody>\n",
       "</table>\n",
       "<p>2240 rows × 6 columns</p>\n",
       "</div>"
      ],
      "text/plain": [
       "      exam_id  user_id  task_ind  answer verdict                time\n",
       "0           1       98         1       1      OK 2023-12-15 10:22:51\n",
       "1           1       98         2       0      WA 2023-12-15 11:16:21\n",
       "2           1       98         3       1      OK 2023-12-15 11:28:44\n",
       "3           1       98         4       0      WA 2023-12-15 11:54:32\n",
       "4           1       98         5       0      WA 2023-12-15 12:30:11\n",
       "...       ...      ...       ...     ...     ...                 ...\n",
       "2235        1       89        12       3      OK 2023-12-15 10:03:36\n",
       "2236        1       89        13       2      OK 2023-12-15 10:04:03\n",
       "2237        1       89        14       0      OK 2023-12-15 10:04:04\n",
       "2238        1       89        15       0      OK 2023-12-15 10:04:09\n",
       "2239        1       89        16       1      OK 2023-12-15 10:04:15\n",
       "\n",
       "[2240 rows x 6 columns]"
      ]
     },
     "execution_count": 135,
     "metadata": {},
     "output_type": "execute_result"
    }
   ],
   "source": [
    "v1"
   ]
  },
  {
   "cell_type": "code",
   "execution_count": 14,
   "id": "8a8f5456-d322-45b6-9943-64168a26e3bf",
   "metadata": {},
   "outputs": [
    {
     "data": {
      "text/plain": [
       "140"
      ]
     },
     "execution_count": 14,
     "metadata": {},
     "output_type": "execute_result"
    }
   ],
   "source": [
    "v1['user_id'].nunique()"
   ]
  },
  {
   "cell_type": "markdown",
   "id": "2148841d-cd20-4f15-84a2-1faced9dee37",
   "metadata": {
    "jp-MarkdownHeadingCollapsed": true
   },
   "source": [
    "<h4>Сравнение с другими учениками</h4>\n",
    "<p>Для того, чтобы сравнить каждого ученика с каждым, присоединяем к датасету тот же самый датасет по параметру <b>task_ind</b></p>\n",
    "<p>Таким образом, мы видимо ответы 2-х учеников на одинаковое задание</p>"
   ]
  },
  {
   "cell_type": "code",
   "execution_count": 15,
   "id": "f6b1d2bc-fc60-483b-8c24-5a54656722e7",
   "metadata": {},
   "outputs": [],
   "source": [
    "user2user_v1 = v1.merge(v1, on='task_ind', suffixes=('_1', '_2'))"
   ]
  },
  {
   "cell_type": "code",
   "execution_count": 17,
   "id": "0c83c8c9-8fe7-464c-8159-8f5bb701d6d9",
   "metadata": {},
   "outputs": [],
   "source": [
    "user2user_v1 = user2user_v1 \\\n",
    "    [user2user_v1['user_id_1'] != user2user_v1['user_id_2']]"
   ]
  },
  {
   "cell_type": "code",
   "execution_count": 22,
   "id": "b37ea381-5622-44fb-b130-92dbb33762dd",
   "metadata": {},
   "outputs": [],
   "source": [
    "user2user_v1 = user2user_v1 \\\n",
    "    [user2user_v1['answer_1'] == user2user_v1['answer_2']]"
   ]
  },
  {
   "cell_type": "code",
   "execution_count": 137,
   "id": "0f0868a0-f93e-4f74-8394-273bc22fea6a",
   "metadata": {},
   "outputs": [
    {
     "data": {
      "text/html": [
       "<div>\n",
       "<style scoped>\n",
       "    .dataframe tbody tr th:only-of-type {\n",
       "        vertical-align: middle;\n",
       "    }\n",
       "\n",
       "    .dataframe tbody tr th {\n",
       "        vertical-align: top;\n",
       "    }\n",
       "\n",
       "    .dataframe thead th {\n",
       "        text-align: right;\n",
       "    }\n",
       "</style>\n",
       "<table border=\"1\" class=\"dataframe\">\n",
       "  <thead>\n",
       "    <tr style=\"text-align: right;\">\n",
       "      <th></th>\n",
       "      <th>exam_id_1</th>\n",
       "      <th>user_id_1</th>\n",
       "      <th>task_ind</th>\n",
       "      <th>answer_1</th>\n",
       "      <th>verdict_1</th>\n",
       "      <th>time_1</th>\n",
       "      <th>exam_id_2</th>\n",
       "      <th>user_id_2</th>\n",
       "      <th>answer_2</th>\n",
       "      <th>verdict_2</th>\n",
       "      <th>time_2</th>\n",
       "      <th>key</th>\n",
       "    </tr>\n",
       "  </thead>\n",
       "  <tbody>\n",
       "    <tr>\n",
       "      <th>1</th>\n",
       "      <td>1</td>\n",
       "      <td>98</td>\n",
       "      <td>1</td>\n",
       "      <td>1</td>\n",
       "      <td>OK</td>\n",
       "      <td>2023-12-15 10:22:51</td>\n",
       "      <td>1</td>\n",
       "      <td>49</td>\n",
       "      <td>1</td>\n",
       "      <td>OK</td>\n",
       "      <td>2023-12-15 10:52:48</td>\n",
       "      <td>(49, 98)</td>\n",
       "    </tr>\n",
       "    <tr>\n",
       "      <th>2</th>\n",
       "      <td>1</td>\n",
       "      <td>98</td>\n",
       "      <td>1</td>\n",
       "      <td>1</td>\n",
       "      <td>OK</td>\n",
       "      <td>2023-12-15 10:22:51</td>\n",
       "      <td>1</td>\n",
       "      <td>94</td>\n",
       "      <td>1</td>\n",
       "      <td>OK</td>\n",
       "      <td>2023-12-15 10:06:50</td>\n",
       "      <td>(94, 98)</td>\n",
       "    </tr>\n",
       "    <tr>\n",
       "      <th>3</th>\n",
       "      <td>1</td>\n",
       "      <td>98</td>\n",
       "      <td>1</td>\n",
       "      <td>1</td>\n",
       "      <td>OK</td>\n",
       "      <td>2023-12-15 10:22:51</td>\n",
       "      <td>1</td>\n",
       "      <td>118</td>\n",
       "      <td>1</td>\n",
       "      <td>OK</td>\n",
       "      <td>2023-12-15 10:10:38</td>\n",
       "      <td>(98, 118)</td>\n",
       "    </tr>\n",
       "    <tr>\n",
       "      <th>7</th>\n",
       "      <td>1</td>\n",
       "      <td>98</td>\n",
       "      <td>1</td>\n",
       "      <td>1</td>\n",
       "      <td>OK</td>\n",
       "      <td>2023-12-15 10:22:51</td>\n",
       "      <td>1</td>\n",
       "      <td>114</td>\n",
       "      <td>1</td>\n",
       "      <td>OK</td>\n",
       "      <td>2023-12-15 10:15:57</td>\n",
       "      <td>(98, 114)</td>\n",
       "    </tr>\n",
       "    <tr>\n",
       "      <th>14</th>\n",
       "      <td>1</td>\n",
       "      <td>98</td>\n",
       "      <td>1</td>\n",
       "      <td>1</td>\n",
       "      <td>OK</td>\n",
       "      <td>2023-12-15 10:22:51</td>\n",
       "      <td>1</td>\n",
       "      <td>4</td>\n",
       "      <td>1</td>\n",
       "      <td>OK</td>\n",
       "      <td>2023-12-15 10:09:07</td>\n",
       "      <td>(4, 98)</td>\n",
       "    </tr>\n",
       "    <tr>\n",
       "      <th>...</th>\n",
       "      <td>...</td>\n",
       "      <td>...</td>\n",
       "      <td>...</td>\n",
       "      <td>...</td>\n",
       "      <td>...</td>\n",
       "      <td>...</td>\n",
       "      <td>...</td>\n",
       "      <td>...</td>\n",
       "      <td>...</td>\n",
       "      <td>...</td>\n",
       "      <td>...</td>\n",
       "      <td>...</td>\n",
       "    </tr>\n",
       "    <tr>\n",
       "      <th>313593</th>\n",
       "      <td>1</td>\n",
       "      <td>89</td>\n",
       "      <td>16</td>\n",
       "      <td>1</td>\n",
       "      <td>OK</td>\n",
       "      <td>2023-12-15 10:04:15</td>\n",
       "      <td>1</td>\n",
       "      <td>77</td>\n",
       "      <td>1</td>\n",
       "      <td>OK</td>\n",
       "      <td>2023-12-15 10:18:51</td>\n",
       "      <td>(77, 89)</td>\n",
       "    </tr>\n",
       "    <tr>\n",
       "      <th>313594</th>\n",
       "      <td>1</td>\n",
       "      <td>89</td>\n",
       "      <td>16</td>\n",
       "      <td>1</td>\n",
       "      <td>OK</td>\n",
       "      <td>2023-12-15 10:04:15</td>\n",
       "      <td>1</td>\n",
       "      <td>29</td>\n",
       "      <td>1</td>\n",
       "      <td>OK</td>\n",
       "      <td>2023-12-15 11:25:33</td>\n",
       "      <td>(29, 89)</td>\n",
       "    </tr>\n",
       "    <tr>\n",
       "      <th>313595</th>\n",
       "      <td>1</td>\n",
       "      <td>89</td>\n",
       "      <td>16</td>\n",
       "      <td>1</td>\n",
       "      <td>OK</td>\n",
       "      <td>2023-12-15 10:04:15</td>\n",
       "      <td>1</td>\n",
       "      <td>17</td>\n",
       "      <td>1</td>\n",
       "      <td>OK</td>\n",
       "      <td>2023-12-15 11:30:11</td>\n",
       "      <td>(17, 89)</td>\n",
       "    </tr>\n",
       "    <tr>\n",
       "      <th>313596</th>\n",
       "      <td>1</td>\n",
       "      <td>89</td>\n",
       "      <td>16</td>\n",
       "      <td>1</td>\n",
       "      <td>OK</td>\n",
       "      <td>2023-12-15 10:04:15</td>\n",
       "      <td>1</td>\n",
       "      <td>137</td>\n",
       "      <td>1</td>\n",
       "      <td>OK</td>\n",
       "      <td>2023-12-15 10:50:08</td>\n",
       "      <td>(89, 137)</td>\n",
       "    </tr>\n",
       "    <tr>\n",
       "      <th>313598</th>\n",
       "      <td>1</td>\n",
       "      <td>89</td>\n",
       "      <td>16</td>\n",
       "      <td>1</td>\n",
       "      <td>OK</td>\n",
       "      <td>2023-12-15 10:04:15</td>\n",
       "      <td>1</td>\n",
       "      <td>102</td>\n",
       "      <td>1</td>\n",
       "      <td>OK</td>\n",
       "      <td>2023-12-15 10:09:15</td>\n",
       "      <td>(89, 102)</td>\n",
       "    </tr>\n",
       "  </tbody>\n",
       "</table>\n",
       "<p>126066 rows × 12 columns</p>\n",
       "</div>"
      ],
      "text/plain": [
       "        exam_id_1  user_id_1  task_ind  answer_1 verdict_1  \\\n",
       "1               1         98         1         1        OK   \n",
       "2               1         98         1         1        OK   \n",
       "3               1         98         1         1        OK   \n",
       "7               1         98         1         1        OK   \n",
       "14              1         98         1         1        OK   \n",
       "...           ...        ...       ...       ...       ...   \n",
       "313593          1         89        16         1        OK   \n",
       "313594          1         89        16         1        OK   \n",
       "313595          1         89        16         1        OK   \n",
       "313596          1         89        16         1        OK   \n",
       "313598          1         89        16         1        OK   \n",
       "\n",
       "                    time_1  exam_id_2  user_id_2  answer_2 verdict_2  \\\n",
       "1      2023-12-15 10:22:51          1         49         1        OK   \n",
       "2      2023-12-15 10:22:51          1         94         1        OK   \n",
       "3      2023-12-15 10:22:51          1        118         1        OK   \n",
       "7      2023-12-15 10:22:51          1        114         1        OK   \n",
       "14     2023-12-15 10:22:51          1          4         1        OK   \n",
       "...                    ...        ...        ...       ...       ...   \n",
       "313593 2023-12-15 10:04:15          1         77         1        OK   \n",
       "313594 2023-12-15 10:04:15          1         29         1        OK   \n",
       "313595 2023-12-15 10:04:15          1         17         1        OK   \n",
       "313596 2023-12-15 10:04:15          1        137         1        OK   \n",
       "313598 2023-12-15 10:04:15          1        102         1        OK   \n",
       "\n",
       "                    time_2        key  \n",
       "1      2023-12-15 10:52:48   (49, 98)  \n",
       "2      2023-12-15 10:06:50   (94, 98)  \n",
       "3      2023-12-15 10:10:38  (98, 118)  \n",
       "7      2023-12-15 10:15:57  (98, 114)  \n",
       "14     2023-12-15 10:09:07    (4, 98)  \n",
       "...                    ...        ...  \n",
       "313593 2023-12-15 10:18:51   (77, 89)  \n",
       "313594 2023-12-15 11:25:33   (29, 89)  \n",
       "313595 2023-12-15 11:30:11   (17, 89)  \n",
       "313596 2023-12-15 10:50:08  (89, 137)  \n",
       "313598 2023-12-15 10:09:15  (89, 102)  \n",
       "\n",
       "[126066 rows x 12 columns]"
      ]
     },
     "execution_count": 137,
     "metadata": {},
     "output_type": "execute_result"
    }
   ],
   "source": [
    "user2user_v1"
   ]
  },
  {
   "cell_type": "code",
   "execution_count": 136,
   "id": "e9765cdc-21f7-443c-8cde-0d9930343873",
   "metadata": {},
   "outputs": [],
   "source": [
    "# доля вопросов, на которые у учеников совпадают ответы\n",
    "user_similarity_frac = user2user_v1 \\\n",
    "    .groupby(['user_id_1', 'user_id_2'], as_index=False) \\\n",
    "    .agg({'verdict_1': lambda x: len(x) / 16}) \\\n",
    "    .rename(columns={'verdict_1': 'similarity'})"
   ]
  },
  {
   "cell_type": "code",
   "execution_count": 27,
   "id": "ca4f1c8b-4d8d-4cc4-81eb-741cd2b896fd",
   "metadata": {},
   "outputs": [
    {
     "data": {
      "text/html": [
       "<div>\n",
       "<style scoped>\n",
       "    .dataframe tbody tr th:only-of-type {\n",
       "        vertical-align: middle;\n",
       "    }\n",
       "\n",
       "    .dataframe tbody tr th {\n",
       "        vertical-align: top;\n",
       "    }\n",
       "\n",
       "    .dataframe thead th {\n",
       "        text-align: right;\n",
       "    }\n",
       "</style>\n",
       "<table border=\"1\" class=\"dataframe\">\n",
       "  <thead>\n",
       "    <tr style=\"text-align: right;\">\n",
       "      <th></th>\n",
       "      <th>user_id_1</th>\n",
       "      <th>user_id_2</th>\n",
       "      <th>similarity</th>\n",
       "    </tr>\n",
       "  </thead>\n",
       "  <tbody>\n",
       "    <tr>\n",
       "      <th>0</th>\n",
       "      <td>1</td>\n",
       "      <td>2</td>\n",
       "      <td>0.5625</td>\n",
       "    </tr>\n",
       "    <tr>\n",
       "      <th>1</th>\n",
       "      <td>1</td>\n",
       "      <td>3</td>\n",
       "      <td>0.5000</td>\n",
       "    </tr>\n",
       "    <tr>\n",
       "      <th>2</th>\n",
       "      <td>1</td>\n",
       "      <td>4</td>\n",
       "      <td>0.2500</td>\n",
       "    </tr>\n",
       "    <tr>\n",
       "      <th>3</th>\n",
       "      <td>1</td>\n",
       "      <td>5</td>\n",
       "      <td>0.5625</td>\n",
       "    </tr>\n",
       "    <tr>\n",
       "      <th>4</th>\n",
       "      <td>1</td>\n",
       "      <td>6</td>\n",
       "      <td>0.3125</td>\n",
       "    </tr>\n",
       "    <tr>\n",
       "      <th>...</th>\n",
       "      <td>...</td>\n",
       "      <td>...</td>\n",
       "      <td>...</td>\n",
       "    </tr>\n",
       "    <tr>\n",
       "      <th>19219</th>\n",
       "      <td>140</td>\n",
       "      <td>135</td>\n",
       "      <td>0.7500</td>\n",
       "    </tr>\n",
       "    <tr>\n",
       "      <th>19220</th>\n",
       "      <td>140</td>\n",
       "      <td>136</td>\n",
       "      <td>0.6250</td>\n",
       "    </tr>\n",
       "    <tr>\n",
       "      <th>19221</th>\n",
       "      <td>140</td>\n",
       "      <td>137</td>\n",
       "      <td>0.0625</td>\n",
       "    </tr>\n",
       "    <tr>\n",
       "      <th>19222</th>\n",
       "      <td>140</td>\n",
       "      <td>138</td>\n",
       "      <td>0.6250</td>\n",
       "    </tr>\n",
       "    <tr>\n",
       "      <th>19223</th>\n",
       "      <td>140</td>\n",
       "      <td>139</td>\n",
       "      <td>0.5000</td>\n",
       "    </tr>\n",
       "  </tbody>\n",
       "</table>\n",
       "<p>19224 rows × 3 columns</p>\n",
       "</div>"
      ],
      "text/plain": [
       "       user_id_1  user_id_2  similarity\n",
       "0              1          2      0.5625\n",
       "1              1          3      0.5000\n",
       "2              1          4      0.2500\n",
       "3              1          5      0.5625\n",
       "4              1          6      0.3125\n",
       "...          ...        ...         ...\n",
       "19219        140        135      0.7500\n",
       "19220        140        136      0.6250\n",
       "19221        140        137      0.0625\n",
       "19222        140        138      0.6250\n",
       "19223        140        139      0.5000\n",
       "\n",
       "[19224 rows x 3 columns]"
      ]
     },
     "execution_count": 27,
     "metadata": {},
     "output_type": "execute_result"
    }
   ],
   "source": [
    "user_similarity_frac"
   ]
  },
  {
   "cell_type": "code",
   "execution_count": 140,
   "id": "197bcd39-3828-4618-b83e-4d5e5853ab76",
   "metadata": {},
   "outputs": [
    {
     "data": {
      "text/html": [
       "<div>\n",
       "<style scoped>\n",
       "    .dataframe tbody tr th:only-of-type {\n",
       "        vertical-align: middle;\n",
       "    }\n",
       "\n",
       "    .dataframe tbody tr th {\n",
       "        vertical-align: top;\n",
       "    }\n",
       "\n",
       "    .dataframe thead th {\n",
       "        text-align: right;\n",
       "    }\n",
       "</style>\n",
       "<table border=\"1\" class=\"dataframe\">\n",
       "  <thead>\n",
       "    <tr style=\"text-align: right;\">\n",
       "      <th></th>\n",
       "      <th>user_id_1</th>\n",
       "      <th>user_id_2</th>\n",
       "      <th>similarity</th>\n",
       "    </tr>\n",
       "  </thead>\n",
       "  <tbody>\n",
       "    <tr>\n",
       "      <th>0</th>\n",
       "      <td>1</td>\n",
       "      <td>2</td>\n",
       "      <td>0.5625</td>\n",
       "    </tr>\n",
       "    <tr>\n",
       "      <th>1</th>\n",
       "      <td>1</td>\n",
       "      <td>3</td>\n",
       "      <td>0.5000</td>\n",
       "    </tr>\n",
       "    <tr>\n",
       "      <th>2</th>\n",
       "      <td>1</td>\n",
       "      <td>4</td>\n",
       "      <td>0.2500</td>\n",
       "    </tr>\n",
       "    <tr>\n",
       "      <th>3</th>\n",
       "      <td>1</td>\n",
       "      <td>5</td>\n",
       "      <td>0.5625</td>\n",
       "    </tr>\n",
       "    <tr>\n",
       "      <th>4</th>\n",
       "      <td>1</td>\n",
       "      <td>6</td>\n",
       "      <td>0.3125</td>\n",
       "    </tr>\n",
       "    <tr>\n",
       "      <th>...</th>\n",
       "      <td>...</td>\n",
       "      <td>...</td>\n",
       "      <td>...</td>\n",
       "    </tr>\n",
       "    <tr>\n",
       "      <th>19219</th>\n",
       "      <td>140</td>\n",
       "      <td>135</td>\n",
       "      <td>0.7500</td>\n",
       "    </tr>\n",
       "    <tr>\n",
       "      <th>19220</th>\n",
       "      <td>140</td>\n",
       "      <td>136</td>\n",
       "      <td>0.6250</td>\n",
       "    </tr>\n",
       "    <tr>\n",
       "      <th>19221</th>\n",
       "      <td>140</td>\n",
       "      <td>137</td>\n",
       "      <td>0.0625</td>\n",
       "    </tr>\n",
       "    <tr>\n",
       "      <th>19222</th>\n",
       "      <td>140</td>\n",
       "      <td>138</td>\n",
       "      <td>0.6250</td>\n",
       "    </tr>\n",
       "    <tr>\n",
       "      <th>19223</th>\n",
       "      <td>140</td>\n",
       "      <td>139</td>\n",
       "      <td>0.5000</td>\n",
       "    </tr>\n",
       "  </tbody>\n",
       "</table>\n",
       "<p>19224 rows × 3 columns</p>\n",
       "</div>"
      ],
      "text/plain": [
       "       user_id_1  user_id_2  similarity\n",
       "0              1          2      0.5625\n",
       "1              1          3      0.5000\n",
       "2              1          4      0.2500\n",
       "3              1          5      0.5625\n",
       "4              1          6      0.3125\n",
       "...          ...        ...         ...\n",
       "19219        140        135      0.7500\n",
       "19220        140        136      0.6250\n",
       "19221        140        137      0.0625\n",
       "19222        140        138      0.6250\n",
       "19223        140        139      0.5000\n",
       "\n",
       "[19224 rows x 3 columns]"
      ]
     },
     "execution_count": 140,
     "metadata": {},
     "output_type": "execute_result"
    }
   ],
   "source": [
    "user_similarity_frac"
   ]
  },
  {
   "cell_type": "code",
   "execution_count": 29,
   "id": "29c8468f-acde-4712-858c-4d7f6f98cc75",
   "metadata": {},
   "outputs": [
    {
     "data": {
      "text/plain": [
       "<Axes: xlabel='similarity', ylabel='Count'>"
      ]
     },
     "execution_count": 29,
     "metadata": {},
     "output_type": "execute_result"
    },
    {
     "data": {
      "image/png": "[encoded data removed]",
      "text/plain": [
       "<Figure size 640x480 with 1 Axes>"
      ]
     },
     "metadata": {},
     "output_type": "display_data"
    }
   ],
   "source": [
    "sns.histplot(user_similarity_frac['similarity'], bins=16)"
   ]
  },
  {
   "cell_type": "markdown",
   "id": "e80e075f-33b2-4c3d-9e88-7bd8b2a2fbc7",
   "metadata": {},
   "source": [
    "<h4>Как видно из графика, у самое большое кол-во учеников имеют сходство в районе 0.4</h4>\n",
    "<h4>Но также есть и те, у которых практически все ответы совпадают</h4>"
   ]
  },
  {
   "cell_type": "code",
   "execution_count": 31,
   "id": "3329e790-68ce-4c5d-83e1-806cea605bb3",
   "metadata": {},
   "outputs": [
    {
     "data": {
      "text/plain": [
       "similarity\n",
       "0.0625     532\n",
       "0.1250     812\n",
       "0.1875     986\n",
       "0.2500    1274\n",
       "0.3125    2094\n",
       "0.3750    3152\n",
       "0.4375    3436\n",
       "0.5000    3152\n",
       "0.5625    2096\n",
       "0.6250    1016\n",
       "0.6875     350\n",
       "0.7500     134\n",
       "0.8125      50\n",
       "0.8750      62\n",
       "0.9375      42\n",
       "1.0000      36\n",
       "Name: count, dtype: int64"
      ]
     },
     "execution_count": 31,
     "metadata": {},
     "output_type": "execute_result"
    }
   ],
   "source": [
    "user_similarity_frac['similarity'] \\\n",
    "    .value_counts() \\\n",
    "    .sort_index()"
   ]
  },
  {
   "cell_type": "markdown",
   "id": "30a938b6-9187-4277-acfe-9f5f460a14e4",
   "metadata": {},
   "source": [
    "<h4>Теперь посчитаем для каждого пользователя, насколько его работа похожа на другую работу (берем максимальное значение \"похожести\")</h4>"
   ]
  },
  {
   "cell_type": "code",
   "execution_count": 138,
   "id": "a3781773-c40b-40ad-a205-c0941b731984",
   "metadata": {},
   "outputs": [],
   "source": [
    "user_similarity = user_similarity_frac \\\n",
    "    .groupby('user_id_1', as_index=False) \\\n",
    "    .agg({'similarity': 'max'}) \\\n",
    "    .sort_values('similarity', ascending=False)"
   ]
  },
  {
   "cell_type": "code",
   "execution_count": 139,
   "id": "4903538c-9769-4645-b106-cc2e451640c6",
   "metadata": {},
   "outputs": [
    {
     "data": {
      "text/html": [
       "<div>\n",
       "<style scoped>\n",
       "    .dataframe tbody tr th:only-of-type {\n",
       "        vertical-align: middle;\n",
       "    }\n",
       "\n",
       "    .dataframe tbody tr th {\n",
       "        vertical-align: top;\n",
       "    }\n",
       "\n",
       "    .dataframe thead th {\n",
       "        text-align: right;\n",
       "    }\n",
       "</style>\n",
       "<table border=\"1\" class=\"dataframe\">\n",
       "  <thead>\n",
       "    <tr style=\"text-align: right;\">\n",
       "      <th></th>\n",
       "      <th>user_id_1</th>\n",
       "      <th>similarity</th>\n",
       "    </tr>\n",
       "  </thead>\n",
       "  <tbody>\n",
       "    <tr>\n",
       "      <th>0</th>\n",
       "      <td>1</td>\n",
       "      <td>1.0000</td>\n",
       "    </tr>\n",
       "    <tr>\n",
       "      <th>1</th>\n",
       "      <td>2</td>\n",
       "      <td>1.0000</td>\n",
       "    </tr>\n",
       "    <tr>\n",
       "      <th>8</th>\n",
       "      <td>9</td>\n",
       "      <td>1.0000</td>\n",
       "    </tr>\n",
       "    <tr>\n",
       "      <th>9</th>\n",
       "      <td>10</td>\n",
       "      <td>1.0000</td>\n",
       "    </tr>\n",
       "    <tr>\n",
       "      <th>57</th>\n",
       "      <td>58</td>\n",
       "      <td>1.0000</td>\n",
       "    </tr>\n",
       "    <tr>\n",
       "      <th>...</th>\n",
       "      <td>...</td>\n",
       "      <td>...</td>\n",
       "    </tr>\n",
       "    <tr>\n",
       "      <th>99</th>\n",
       "      <td>100</td>\n",
       "      <td>0.6250</td>\n",
       "    </tr>\n",
       "    <tr>\n",
       "      <th>133</th>\n",
       "      <td>134</td>\n",
       "      <td>0.6250</td>\n",
       "    </tr>\n",
       "    <tr>\n",
       "      <th>27</th>\n",
       "      <td>28</td>\n",
       "      <td>0.5625</td>\n",
       "    </tr>\n",
       "    <tr>\n",
       "      <th>120</th>\n",
       "      <td>121</td>\n",
       "      <td>0.5625</td>\n",
       "    </tr>\n",
       "    <tr>\n",
       "      <th>117</th>\n",
       "      <td>118</td>\n",
       "      <td>0.5625</td>\n",
       "    </tr>\n",
       "  </tbody>\n",
       "</table>\n",
       "<p>140 rows × 2 columns</p>\n",
       "</div>"
      ],
      "text/plain": [
       "     user_id_1  similarity\n",
       "0            1      1.0000\n",
       "1            2      1.0000\n",
       "8            9      1.0000\n",
       "9           10      1.0000\n",
       "57          58      1.0000\n",
       "..         ...         ...\n",
       "99         100      0.6250\n",
       "133        134      0.6250\n",
       "27          28      0.5625\n",
       "120        121      0.5625\n",
       "117        118      0.5625\n",
       "\n",
       "[140 rows x 2 columns]"
      ]
     },
     "execution_count": 139,
     "metadata": {},
     "output_type": "execute_result"
    }
   ],
   "source": [
    "user_similarity"
   ]
  },
  {
   "cell_type": "code",
   "execution_count": 41,
   "id": "611be10a-a72d-4713-9ee0-1cebc23a4838",
   "metadata": {},
   "outputs": [
    {
     "data": {
      "text/plain": [
       "<Axes: xlabel='similarity', ylabel='Count'>"
      ]
     },
     "execution_count": 41,
     "metadata": {},
     "output_type": "execute_result"
    },
    {
     "data": {
      "image/png": "[encoded data removed]",
      "text/plain": [
       "<Figure size 640x480 with 1 Axes>"
      ]
     },
     "metadata": {},
     "output_type": "display_data"
    }
   ],
   "source": [
    "sns.histplot(user_similarity['similarity'], bins=20)"
   ]
  },
  {
   "cell_type": "markdown",
   "id": "24487836-f003-445f-91a5-119034f811cd",
   "metadata": {},
   "source": [
    "<h4>На графике видно, что после отметки 0.8 у значения <b>similarity</b> наблюдается подьем. Мы будем работать с пользователями, имеющими именно эти значения</h4>"
   ]
  },
  {
   "cell_type": "code",
   "execution_count": 43,
   "id": "acf7e933-afb7-46af-bfb5-e9f034010da8",
   "metadata": {},
   "outputs": [
    {
     "data": {
      "text/html": [
       "<div>\n",
       "<style scoped>\n",
       "    .dataframe tbody tr th:only-of-type {\n",
       "        vertical-align: middle;\n",
       "    }\n",
       "\n",
       "    .dataframe tbody tr th {\n",
       "        vertical-align: top;\n",
       "    }\n",
       "\n",
       "    .dataframe thead th {\n",
       "        text-align: right;\n",
       "    }\n",
       "</style>\n",
       "<table border=\"1\" class=\"dataframe\">\n",
       "  <thead>\n",
       "    <tr style=\"text-align: right;\">\n",
       "      <th></th>\n",
       "      <th>user_id_1</th>\n",
       "      <th>user_id_2</th>\n",
       "      <th>similarity</th>\n",
       "    </tr>\n",
       "  </thead>\n",
       "  <tbody>\n",
       "    <tr>\n",
       "      <th>0</th>\n",
       "      <td>1</td>\n",
       "      <td>2</td>\n",
       "      <td>0.5625</td>\n",
       "    </tr>\n",
       "    <tr>\n",
       "      <th>1</th>\n",
       "      <td>1</td>\n",
       "      <td>3</td>\n",
       "      <td>0.5000</td>\n",
       "    </tr>\n",
       "    <tr>\n",
       "      <th>2</th>\n",
       "      <td>1</td>\n",
       "      <td>4</td>\n",
       "      <td>0.2500</td>\n",
       "    </tr>\n",
       "    <tr>\n",
       "      <th>3</th>\n",
       "      <td>1</td>\n",
       "      <td>5</td>\n",
       "      <td>0.5625</td>\n",
       "    </tr>\n",
       "    <tr>\n",
       "      <th>4</th>\n",
       "      <td>1</td>\n",
       "      <td>6</td>\n",
       "      <td>0.3125</td>\n",
       "    </tr>\n",
       "  </tbody>\n",
       "</table>\n",
       "</div>"
      ],
      "text/plain": [
       "   user_id_1  user_id_2  similarity\n",
       "0          1          2      0.5625\n",
       "1          1          3      0.5000\n",
       "2          1          4      0.2500\n",
       "3          1          5      0.5625\n",
       "4          1          6      0.3125"
      ]
     },
     "execution_count": 43,
     "metadata": {},
     "output_type": "execute_result"
    }
   ],
   "source": [
    "user_similarity_frac.head()"
   ]
  },
  {
   "cell_type": "code",
   "execution_count": 143,
   "id": "1c7b4d5c-3930-46b2-8d4f-ed3a1430189e",
   "metadata": {},
   "outputs": [],
   "source": [
    "# Выборка пользователей, у которых значение similarity выше 0.8\n",
    "suspicious_users_v1 = user_similarity_frac[user_similarity_frac['similarity'] >= 0.8] \\\n",
    "    .copy(deep=True)"
   ]
  },
  {
   "cell_type": "code",
   "execution_count": 144,
   "id": "74ec7b1e-5a40-4875-8455-0af173c18a96",
   "metadata": {},
   "outputs": [
    {
     "data": {
      "text/plain": [
       "63"
      ]
     },
     "execution_count": 144,
     "metadata": {},
     "output_type": "execute_result"
    }
   ],
   "source": [
    "suspicious_users_v1['user_id_1'].nunique()"
   ]
  },
  {
   "cell_type": "code",
   "execution_count": 147,
   "id": "9aff2b70-34cc-45b8-a89d-683cb21b55d9",
   "metadata": {},
   "outputs": [],
   "source": [
    "# Для каждого подозрительного пользователя рассчитываем долю правильных ответов\n",
    "user_success_df = v1 \\\n",
    "    [v1['user_id'].isin(suspicious_users_v1['user_id_1'])] \\\n",
    "    .groupby('user_id', as_index=False) \\\n",
    "    .agg({'verdict': lambda x: (x == 'OK').sum() / len(x)}) \\\n",
    "    .rename(columns={'verdict': 'success_rate'})"
   ]
  },
  {
   "cell_type": "code",
   "execution_count": 148,
   "id": "89e8ae3d-76e6-4818-9eb6-fd376a35e267",
   "metadata": {},
   "outputs": [
    {
     "data": {
      "text/html": [
       "<div>\n",
       "<style scoped>\n",
       "    .dataframe tbody tr th:only-of-type {\n",
       "        vertical-align: middle;\n",
       "    }\n",
       "\n",
       "    .dataframe tbody tr th {\n",
       "        vertical-align: top;\n",
       "    }\n",
       "\n",
       "    .dataframe thead th {\n",
       "        text-align: right;\n",
       "    }\n",
       "</style>\n",
       "<table border=\"1\" class=\"dataframe\">\n",
       "  <thead>\n",
       "    <tr style=\"text-align: right;\">\n",
       "      <th></th>\n",
       "      <th>user_id</th>\n",
       "      <th>success_rate</th>\n",
       "    </tr>\n",
       "  </thead>\n",
       "  <tbody>\n",
       "    <tr>\n",
       "      <th>0</th>\n",
       "      <td>1</td>\n",
       "      <td>0.1875</td>\n",
       "    </tr>\n",
       "    <tr>\n",
       "      <th>1</th>\n",
       "      <td>2</td>\n",
       "      <td>0.1250</td>\n",
       "    </tr>\n",
       "    <tr>\n",
       "      <th>2</th>\n",
       "      <td>8</td>\n",
       "      <td>0.2500</td>\n",
       "    </tr>\n",
       "    <tr>\n",
       "      <th>3</th>\n",
       "      <td>9</td>\n",
       "      <td>0.1875</td>\n",
       "    </tr>\n",
       "    <tr>\n",
       "      <th>4</th>\n",
       "      <td>10</td>\n",
       "      <td>0.0625</td>\n",
       "    </tr>\n",
       "  </tbody>\n",
       "</table>\n",
       "</div>"
      ],
      "text/plain": [
       "   user_id  success_rate\n",
       "0        1        0.1875\n",
       "1        2        0.1250\n",
       "2        8        0.2500\n",
       "3        9        0.1875\n",
       "4       10        0.0625"
      ]
     },
     "execution_count": 148,
     "metadata": {},
     "output_type": "execute_result"
    }
   ],
   "source": [
    "user_success_df.head()"
   ]
  },
  {
   "cell_type": "code",
   "execution_count": 52,
   "id": "3bd8c2e0-5079-4839-8301-6f6652ca2f29",
   "metadata": {},
   "outputs": [
    {
     "data": {
      "text/plain": [
       "success_rate\n",
       "0.0000     7\n",
       "0.0625     8\n",
       "0.1250     6\n",
       "0.1875    11\n",
       "0.2500     6\n",
       "0.3125     4\n",
       "0.3750     1\n",
       "0.8125     1\n",
       "0.8750     4\n",
       "1.0000     4\n",
       "Name: count, dtype: int64"
      ]
     },
     "execution_count": 52,
     "metadata": {},
     "output_type": "execute_result"
    }
   ],
   "source": [
    "user_success_df['success_rate'] \\\n",
    "    .value_counts() \\\n",
    "    .sort_index()"
   ]
  },
  {
   "cell_type": "code",
   "execution_count": 152,
   "id": "69c4027a-59c7-439a-ae14-06a9443754d7",
   "metadata": {},
   "outputs": [],
   "source": [
    "# Итоговый список result_ids, в котором хранятся идентификаторы тех,\n",
    "# у кого низкий success_rate, при этом высокая similarity\n",
    "\n",
    "result_ids = set(suspicious_users_v1[suspicious_users_v1['user_id_1'].isin(\n",
    "    user_success_df[user_success_df['success_rate'] < 0.8]['user_id']\n",
    ")]['user_id_1'])"
   ]
  },
  {
   "cell_type": "markdown",
   "id": "8d4e6ff8-b593-4959-a391-92eeab09b0b7",
   "metadata": {},
   "source": [
    "<h3>Теперь вычислим потенциальных списывальщиков, проверив, как быстро они написали и какой у них результат</h3>"
   ]
  },
  {
   "cell_type": "code",
   "execution_count": 155,
   "id": "03a5a928-ca84-442a-9661-e5a30ccc2ae7",
   "metadata": {},
   "outputs": [
    {
     "name": "stderr",
     "output_type": "stream",
     "text": [
      "C:\\Users\\Huawei\\AppData\\Local\\Temp\\ipykernel_9192\\959198354.py:2: SettingWithCopyWarning: \n",
      "A value is trying to be set on a copy of a slice from a DataFrame.\n",
      "Try using .loc[row_indexer,col_indexer] = value instead\n",
      "\n",
      "See the caveats in the documentation: https://pandas.pydata.org/pandas-docs/stable/user_guide/indexing.html#returning-a-view-versus-a-copy\n",
      "  v1['verdict'] = v1['verdict'].apply(lambda x: 1 if x == 'OK' else 0)\n"
     ]
    }
   ],
   "source": [
    "# Меняем значения в колонке verdict на более удобный для нас тип данных\n",
    "v1['verdict'] = v1['verdict'].apply(lambda x: 1 if x == 'OK' else 0)"
   ]
  },
  {
   "cell_type": "code",
   "execution_count": 156,
   "id": "80647ba3-0abf-49b1-bfcd-7ff5103b5e37",
   "metadata": {},
   "outputs": [
    {
     "data": {
      "text/html": [
       "<div>\n",
       "<style scoped>\n",
       "    .dataframe tbody tr th:only-of-type {\n",
       "        vertical-align: middle;\n",
       "    }\n",
       "\n",
       "    .dataframe tbody tr th {\n",
       "        vertical-align: top;\n",
       "    }\n",
       "\n",
       "    .dataframe thead th {\n",
       "        text-align: right;\n",
       "    }\n",
       "</style>\n",
       "<table border=\"1\" class=\"dataframe\">\n",
       "  <thead>\n",
       "    <tr style=\"text-align: right;\">\n",
       "      <th></th>\n",
       "      <th>exam_id</th>\n",
       "      <th>user_id</th>\n",
       "      <th>task_ind</th>\n",
       "      <th>answer</th>\n",
       "      <th>verdict</th>\n",
       "      <th>time</th>\n",
       "    </tr>\n",
       "  </thead>\n",
       "  <tbody>\n",
       "    <tr>\n",
       "      <th>0</th>\n",
       "      <td>1</td>\n",
       "      <td>98</td>\n",
       "      <td>1</td>\n",
       "      <td>1</td>\n",
       "      <td>0</td>\n",
       "      <td>2023-12-15 10:22:51</td>\n",
       "    </tr>\n",
       "    <tr>\n",
       "      <th>1</th>\n",
       "      <td>1</td>\n",
       "      <td>98</td>\n",
       "      <td>2</td>\n",
       "      <td>0</td>\n",
       "      <td>0</td>\n",
       "      <td>2023-12-15 11:16:21</td>\n",
       "    </tr>\n",
       "    <tr>\n",
       "      <th>2</th>\n",
       "      <td>1</td>\n",
       "      <td>98</td>\n",
       "      <td>3</td>\n",
       "      <td>1</td>\n",
       "      <td>0</td>\n",
       "      <td>2023-12-15 11:28:44</td>\n",
       "    </tr>\n",
       "    <tr>\n",
       "      <th>3</th>\n",
       "      <td>1</td>\n",
       "      <td>98</td>\n",
       "      <td>4</td>\n",
       "      <td>0</td>\n",
       "      <td>0</td>\n",
       "      <td>2023-12-15 11:54:32</td>\n",
       "    </tr>\n",
       "    <tr>\n",
       "      <th>4</th>\n",
       "      <td>1</td>\n",
       "      <td>98</td>\n",
       "      <td>5</td>\n",
       "      <td>0</td>\n",
       "      <td>0</td>\n",
       "      <td>2023-12-15 12:30:11</td>\n",
       "    </tr>\n",
       "    <tr>\n",
       "      <th>...</th>\n",
       "      <td>...</td>\n",
       "      <td>...</td>\n",
       "      <td>...</td>\n",
       "      <td>...</td>\n",
       "      <td>...</td>\n",
       "      <td>...</td>\n",
       "    </tr>\n",
       "    <tr>\n",
       "      <th>2235</th>\n",
       "      <td>1</td>\n",
       "      <td>89</td>\n",
       "      <td>12</td>\n",
       "      <td>3</td>\n",
       "      <td>0</td>\n",
       "      <td>2023-12-15 10:03:36</td>\n",
       "    </tr>\n",
       "    <tr>\n",
       "      <th>2236</th>\n",
       "      <td>1</td>\n",
       "      <td>89</td>\n",
       "      <td>13</td>\n",
       "      <td>2</td>\n",
       "      <td>0</td>\n",
       "      <td>2023-12-15 10:04:03</td>\n",
       "    </tr>\n",
       "    <tr>\n",
       "      <th>2237</th>\n",
       "      <td>1</td>\n",
       "      <td>89</td>\n",
       "      <td>14</td>\n",
       "      <td>0</td>\n",
       "      <td>0</td>\n",
       "      <td>2023-12-15 10:04:04</td>\n",
       "    </tr>\n",
       "    <tr>\n",
       "      <th>2238</th>\n",
       "      <td>1</td>\n",
       "      <td>89</td>\n",
       "      <td>15</td>\n",
       "      <td>0</td>\n",
       "      <td>0</td>\n",
       "      <td>2023-12-15 10:04:09</td>\n",
       "    </tr>\n",
       "    <tr>\n",
       "      <th>2239</th>\n",
       "      <td>1</td>\n",
       "      <td>89</td>\n",
       "      <td>16</td>\n",
       "      <td>1</td>\n",
       "      <td>0</td>\n",
       "      <td>2023-12-15 10:04:15</td>\n",
       "    </tr>\n",
       "  </tbody>\n",
       "</table>\n",
       "<p>2240 rows × 6 columns</p>\n",
       "</div>"
      ],
      "text/plain": [
       "      exam_id  user_id  task_ind  answer  verdict                time\n",
       "0           1       98         1       1        0 2023-12-15 10:22:51\n",
       "1           1       98         2       0        0 2023-12-15 11:16:21\n",
       "2           1       98         3       1        0 2023-12-15 11:28:44\n",
       "3           1       98         4       0        0 2023-12-15 11:54:32\n",
       "4           1       98         5       0        0 2023-12-15 12:30:11\n",
       "...       ...      ...       ...     ...      ...                 ...\n",
       "2235        1       89        12       3        0 2023-12-15 10:03:36\n",
       "2236        1       89        13       2        0 2023-12-15 10:04:03\n",
       "2237        1       89        14       0        0 2023-12-15 10:04:04\n",
       "2238        1       89        15       0        0 2023-12-15 10:04:09\n",
       "2239        1       89        16       1        0 2023-12-15 10:04:15\n",
       "\n",
       "[2240 rows x 6 columns]"
      ]
     },
     "execution_count": 156,
     "metadata": {},
     "output_type": "execute_result"
    }
   ],
   "source": [
    "v1"
   ]
  },
  {
   "cell_type": "code",
   "execution_count": 177,
   "id": "188e6d2f-1b8e-4ff6-a5bd-8406a6858ca2",
   "metadata": {},
   "outputs": [],
   "source": [
    "# Создаем таблицу, в котором видно время окончания экзамена и доля верных ответов\n",
    "\n",
    "v1_seq = v1[['user_id', 'verdict', 'time']] \\\n",
    "    .groupby('user_id', as_index=False) \\\n",
    "    .agg({'verdict': 'mean', 'time': 'max'}) \\\n",
    "    .rename(columns={'verdict': 'success_rate', 'time': 'endtime'}) \\\n",
    "    .sort_values('success_rate', ascending=False)\n",
    "v1_seq['endtime'] = v1_seq['endtime'].dt.hour - 10"
   ]
  },
  {
   "cell_type": "code",
   "execution_count": 99,
   "id": "133e6ba8-42f8-4c88-8c95-ae6d65aafa0a",
   "metadata": {},
   "outputs": [
    {
     "data": {
      "text/plain": [
       "<Axes: xlabel='endtime', ylabel='Count'>"
      ]
     },
     "execution_count": 99,
     "metadata": {},
     "output_type": "execute_result"
    },
    {
     "data": {
      "image/png": "[encoded data removed]",
      "text/plain": [
       "<Figure size 640x480 with 1 Axes>"
      ]
     },
     "metadata": {},
     "output_type": "display_data"
    }
   ],
   "source": [
    "sns.histplot(v1_seq['endtime'])"
   ]
  },
  {
   "cell_type": "markdown",
   "id": "2836c841-d406-41d0-b430-63d5be9f06cf",
   "metadata": {},
   "source": [
    "<h4>На графике видно аномальное кол-во студентов, которые закончили экзамен менее чем за час</h4>\n",
    "<p>Проверим их долю верных решений.</p>"
   ]
  },
  {
   "cell_type": "code",
   "execution_count": 163,
   "id": "eb21a885-bf96-4e44-99a1-fd47e35ebcfd",
   "metadata": {},
   "outputs": [],
   "source": [
    "strange_users_v1 = v1_seq[(v1_seq['endtime'] < 1)] \\\n",
    "    .sort_values('success_rate', ascending=False)"
   ]
  },
  {
   "cell_type": "code",
   "execution_count": 165,
   "id": "63cac3d4-0eba-485e-9846-de43c26f5c94",
   "metadata": {},
   "outputs": [
    {
     "data": {
      "text/plain": [
       "<Axes: xlabel='success_rate', ylabel='Count'>"
      ]
     },
     "execution_count": 165,
     "metadata": {},
     "output_type": "execute_result"
    },
    {
     "data": {
      "image/png": "[encoded data removed]",
      "text/plain": [
       "<Figure size 640x480 with 1 Axes>"
      ]
     },
     "metadata": {},
     "output_type": "display_data"
    }
   ],
   "source": [
    "sns.histplot(strange_users_v1['success_rate'])"
   ]
  },
  {
   "cell_type": "markdown",
   "id": "60388ac6-8219-4b08-9177-63fdb2120935",
   "metadata": {},
   "source": [
    "<h4>Из тех, кто завершил экзамен быстрее чем за час, присутствуют ученики, которые написали на высокие баллы. С высокой вероятностью они списывали.</h4>"
   ]
  },
  {
   "cell_type": "code",
   "execution_count": 167,
   "id": "264b15f7-9d49-44f3-87ff-99d6beefbdf6",
   "metadata": {},
   "outputs": [],
   "source": [
    "result_ids_2 = list(\n",
    "    strange_users_v1[strange_users_v1['success_rate'] > 0.6]['user_id']\n",
    ")"
   ]
  },
  {
   "cell_type": "code",
   "execution_count": 173,
   "id": "07a3340b-ab30-4a70-9ead-67d30a9a8aed",
   "metadata": {},
   "outputs": [],
   "source": [
    "suspicious_students_v1 = sorted(list(set(result_ids_2 + list(result_ids))))"
   ]
  },
  {
   "cell_type": "markdown",
   "id": "680fbeb6-84da-4286-bd9f-409240ed60ee",
   "metadata": {},
   "source": [
    "<h3>Вариант 2</h3>\n",
    "<p>Анализ результатов студентов, у которых 2 вариант, происходит аналогичмным образом.</p>"
   ]
  },
  {
   "cell_type": "markdown",
   "id": "18facf8c-ce19-4ab9-97af-e58cc068406a",
   "metadata": {},
   "source": [
    "<h3>Списывание друг у друга</h3>"
   ]
  },
  {
   "cell_type": "code",
   "execution_count": 119,
   "id": "9705d67b-99bc-4e07-b23c-5b02f6712fa2",
   "metadata": {},
   "outputs": [],
   "source": [
    "user2user_v2 = v2.merge(v2, on='task_ind', suffixes=('_1', '_2'))"
   ]
  },
  {
   "cell_type": "code",
   "execution_count": 124,
   "id": "0b1775f0-4ac9-4c42-853f-5de4e9e2ff3b",
   "metadata": {},
   "outputs": [],
   "source": [
    "user2user_v2 = user2user_v2[user2user_v2['user_id_1'] != user2user_v2['user_id_2']] \\\n",
    "    .sort_values(['user_id_1', 'user_id_2'], ascending=True)"
   ]
  },
  {
   "cell_type": "code",
   "execution_count": 126,
   "id": "75d3b850-8607-40cb-980e-db40eefc351b",
   "metadata": {},
   "outputs": [],
   "source": [
    "user2user_v2 = user2user_v2[user2user_v2['answer_1'] == user2user_v2['answer_2']]"
   ]
  },
  {
   "cell_type": "code",
   "execution_count": 127,
   "id": "5c32f2c2-738c-4539-92bb-2dd1cdb4e813",
   "metadata": {},
   "outputs": [
    {
     "data": {
      "text/html": [
       "<div>\n",
       "<style scoped>\n",
       "    .dataframe tbody tr th:only-of-type {\n",
       "        vertical-align: middle;\n",
       "    }\n",
       "\n",
       "    .dataframe tbody tr th {\n",
       "        vertical-align: top;\n",
       "    }\n",
       "\n",
       "    .dataframe thead th {\n",
       "        text-align: right;\n",
       "    }\n",
       "</style>\n",
       "<table border=\"1\" class=\"dataframe\">\n",
       "  <thead>\n",
       "    <tr style=\"text-align: right;\">\n",
       "      <th></th>\n",
       "      <th>exam_id_1</th>\n",
       "      <th>user_id_1</th>\n",
       "      <th>task_ind</th>\n",
       "      <th>answer_1</th>\n",
       "      <th>verdict_1</th>\n",
       "      <th>time_1</th>\n",
       "      <th>exam_id_2</th>\n",
       "      <th>user_id_2</th>\n",
       "      <th>answer_2</th>\n",
       "      <th>verdict_2</th>\n",
       "      <th>time_2</th>\n",
       "    </tr>\n",
       "  </thead>\n",
       "  <tbody>\n",
       "    <tr>\n",
       "      <th>711939</th>\n",
       "      <td>2</td>\n",
       "      <td>1</td>\n",
       "      <td>4</td>\n",
       "      <td>3</td>\n",
       "      <td>0</td>\n",
       "      <td>2023-12-20 10:30:37</td>\n",
       "      <td>2</td>\n",
       "      <td>2</td>\n",
       "      <td>3</td>\n",
       "      <td>0</td>\n",
       "      <td>2023-12-20 10:40:46</td>\n",
       "    </tr>\n",
       "    <tr>\n",
       "      <th>711326</th>\n",
       "      <td>2</td>\n",
       "      <td>1</td>\n",
       "      <td>3</td>\n",
       "      <td>2</td>\n",
       "      <td>0</td>\n",
       "      <td>2023-12-20 10:26:50</td>\n",
       "      <td>2</td>\n",
       "      <td>3</td>\n",
       "      <td>2</td>\n",
       "      <td>0</td>\n",
       "      <td>2023-12-20 10:16:40</td>\n",
       "    </tr>\n",
       "    <tr>\n",
       "      <th>711856</th>\n",
       "      <td>2</td>\n",
       "      <td>1</td>\n",
       "      <td>4</td>\n",
       "      <td>3</td>\n",
       "      <td>0</td>\n",
       "      <td>2023-12-20 10:30:37</td>\n",
       "      <td>2</td>\n",
       "      <td>3</td>\n",
       "      <td>3</td>\n",
       "      <td>0</td>\n",
       "      <td>2023-12-20 10:17:40</td>\n",
       "    </tr>\n",
       "    <tr>\n",
       "      <th>711587</th>\n",
       "      <td>2</td>\n",
       "      <td>1</td>\n",
       "      <td>3</td>\n",
       "      <td>2</td>\n",
       "      <td>0</td>\n",
       "      <td>2023-12-20 10:26:50</td>\n",
       "      <td>2</td>\n",
       "      <td>4</td>\n",
       "      <td>2</td>\n",
       "      <td>0</td>\n",
       "      <td>2023-12-20 10:37:18</td>\n",
       "    </tr>\n",
       "    <tr>\n",
       "      <th>711972</th>\n",
       "      <td>2</td>\n",
       "      <td>1</td>\n",
       "      <td>4</td>\n",
       "      <td>3</td>\n",
       "      <td>0</td>\n",
       "      <td>2023-12-20 10:30:37</td>\n",
       "      <td>2</td>\n",
       "      <td>5</td>\n",
       "      <td>3</td>\n",
       "      <td>0</td>\n",
       "      <td>2023-12-20 11:38:07</td>\n",
       "    </tr>\n",
       "    <tr>\n",
       "      <th>...</th>\n",
       "      <td>...</td>\n",
       "      <td>...</td>\n",
       "      <td>...</td>\n",
       "      <td>...</td>\n",
       "      <td>...</td>\n",
       "      <td>...</td>\n",
       "      <td>...</td>\n",
       "      <td>...</td>\n",
       "      <td>...</td>\n",
       "      <td>...</td>\n",
       "      <td>...</td>\n",
       "    </tr>\n",
       "    <tr>\n",
       "      <th>834204</th>\n",
       "      <td>2</td>\n",
       "      <td>530</td>\n",
       "      <td>2</td>\n",
       "      <td>0</td>\n",
       "      <td>1</td>\n",
       "      <td>2023-12-20 10:42:52</td>\n",
       "      <td>2</td>\n",
       "      <td>527</td>\n",
       "      <td>0</td>\n",
       "      <td>1</td>\n",
       "      <td>2023-12-20 10:55:14</td>\n",
       "    </tr>\n",
       "    <tr>\n",
       "      <th>834734</th>\n",
       "      <td>2</td>\n",
       "      <td>530</td>\n",
       "      <td>3</td>\n",
       "      <td>0</td>\n",
       "      <td>0</td>\n",
       "      <td>2023-12-20 10:43:47</td>\n",
       "      <td>2</td>\n",
       "      <td>527</td>\n",
       "      <td>0</td>\n",
       "      <td>0</td>\n",
       "      <td>2023-12-20 10:55:42</td>\n",
       "    </tr>\n",
       "    <tr>\n",
       "      <th>835264</th>\n",
       "      <td>2</td>\n",
       "      <td>530</td>\n",
       "      <td>4</td>\n",
       "      <td>3</td>\n",
       "      <td>0</td>\n",
       "      <td>2023-12-20 10:43:49</td>\n",
       "      <td>2</td>\n",
       "      <td>527</td>\n",
       "      <td>3</td>\n",
       "      <td>0</td>\n",
       "      <td>2023-12-20 10:55:58</td>\n",
       "    </tr>\n",
       "    <tr>\n",
       "      <th>834046</th>\n",
       "      <td>2</td>\n",
       "      <td>530</td>\n",
       "      <td>2</td>\n",
       "      <td>0</td>\n",
       "      <td>1</td>\n",
       "      <td>2023-12-20 10:42:52</td>\n",
       "      <td>2</td>\n",
       "      <td>529</td>\n",
       "      <td>0</td>\n",
       "      <td>1</td>\n",
       "      <td>2023-12-20 10:22:46</td>\n",
       "    </tr>\n",
       "    <tr>\n",
       "      <th>835106</th>\n",
       "      <td>2</td>\n",
       "      <td>530</td>\n",
       "      <td>4</td>\n",
       "      <td>3</td>\n",
       "      <td>0</td>\n",
       "      <td>2023-12-20 10:43:49</td>\n",
       "      <td>2</td>\n",
       "      <td>529</td>\n",
       "      <td>3</td>\n",
       "      <td>0</td>\n",
       "      <td>2023-12-20 10:38:38</td>\n",
       "    </tr>\n",
       "  </tbody>\n",
       "</table>\n",
       "<p>493818 rows × 11 columns</p>\n",
       "</div>"
      ],
      "text/plain": [
       "        exam_id_1  user_id_1  task_ind  answer_1  verdict_1  \\\n",
       "711939          2          1         4         3          0   \n",
       "711326          2          1         3         2          0   \n",
       "711856          2          1         4         3          0   \n",
       "711587          2          1         3         2          0   \n",
       "711972          2          1         4         3          0   \n",
       "...           ...        ...       ...       ...        ...   \n",
       "834204          2        530         2         0          1   \n",
       "834734          2        530         3         0          0   \n",
       "835264          2        530         4         3          0   \n",
       "834046          2        530         2         0          1   \n",
       "835106          2        530         4         3          0   \n",
       "\n",
       "                    time_1  exam_id_2  user_id_2  answer_2  verdict_2  \\\n",
       "711939 2023-12-20 10:30:37          2          2         3          0   \n",
       "711326 2023-12-20 10:26:50          2          3         2          0   \n",
       "711856 2023-12-20 10:30:37          2          3         3          0   \n",
       "711587 2023-12-20 10:26:50          2          4         2          0   \n",
       "711972 2023-12-20 10:30:37          2          5         3          0   \n",
       "...                    ...        ...        ...       ...        ...   \n",
       "834204 2023-12-20 10:42:52          2        527         0          1   \n",
       "834734 2023-12-20 10:43:47          2        527         0          0   \n",
       "835264 2023-12-20 10:43:49          2        527         3          0   \n",
       "834046 2023-12-20 10:42:52          2        529         0          1   \n",
       "835106 2023-12-20 10:43:49          2        529         3          0   \n",
       "\n",
       "                    time_2  \n",
       "711939 2023-12-20 10:40:46  \n",
       "711326 2023-12-20 10:16:40  \n",
       "711856 2023-12-20 10:17:40  \n",
       "711587 2023-12-20 10:37:18  \n",
       "711972 2023-12-20 11:38:07  \n",
       "...                    ...  \n",
       "834204 2023-12-20 10:55:14  \n",
       "834734 2023-12-20 10:55:42  \n",
       "835264 2023-12-20 10:55:58  \n",
       "834046 2023-12-20 10:22:46  \n",
       "835106 2023-12-20 10:38:38  \n",
       "\n",
       "[493818 rows x 11 columns]"
      ]
     },
     "execution_count": 127,
     "metadata": {},
     "output_type": "execute_result"
    }
   ],
   "source": [
    "user2user_v2"
   ]
  },
  {
   "cell_type": "code",
   "execution_count": 128,
   "id": "30640292-3b04-425a-8c2a-d9e9c81f314d",
   "metadata": {},
   "outputs": [],
   "source": [
    "# сколько задач совпадает у пары учеников\n",
    "# доля задач, на которые ученики дали одинаковые ответы\n",
    "user_similarity_frac = user2user_v2 \\\n",
    "    .groupby(['user_id_1', 'user_id_2'], as_index=False) \\\n",
    "    .agg({'verdict_1': lambda x: len(x) / 16}) \\\n",
    "    .rename(columns={'verdict_1': 'similarity'})"
   ]
  },
  {
   "cell_type": "code",
   "execution_count": 129,
   "id": "dfd91461-f519-4362-891f-c40103f3c2ec",
   "metadata": {},
   "outputs": [
    {
     "data": {
      "text/html": [
       "<div>\n",
       "<style scoped>\n",
       "    .dataframe tbody tr th:only-of-type {\n",
       "        vertical-align: middle;\n",
       "    }\n",
       "\n",
       "    .dataframe tbody tr th {\n",
       "        vertical-align: top;\n",
       "    }\n",
       "\n",
       "    .dataframe thead th {\n",
       "        text-align: right;\n",
       "    }\n",
       "</style>\n",
       "<table border=\"1\" class=\"dataframe\">\n",
       "  <thead>\n",
       "    <tr style=\"text-align: right;\">\n",
       "      <th></th>\n",
       "      <th>user_id_1</th>\n",
       "      <th>user_id_2</th>\n",
       "      <th>similarity</th>\n",
       "    </tr>\n",
       "  </thead>\n",
       "  <tbody>\n",
       "    <tr>\n",
       "      <th>0</th>\n",
       "      <td>1</td>\n",
       "      <td>2</td>\n",
       "      <td>0.0625</td>\n",
       "    </tr>\n",
       "    <tr>\n",
       "      <th>1</th>\n",
       "      <td>1</td>\n",
       "      <td>3</td>\n",
       "      <td>0.1250</td>\n",
       "    </tr>\n",
       "    <tr>\n",
       "      <th>2</th>\n",
       "      <td>1</td>\n",
       "      <td>4</td>\n",
       "      <td>0.0625</td>\n",
       "    </tr>\n",
       "    <tr>\n",
       "      <th>3</th>\n",
       "      <td>1</td>\n",
       "      <td>5</td>\n",
       "      <td>0.0625</td>\n",
       "    </tr>\n",
       "    <tr>\n",
       "      <th>4</th>\n",
       "      <td>1</td>\n",
       "      <td>6</td>\n",
       "      <td>0.1250</td>\n",
       "    </tr>\n",
       "    <tr>\n",
       "      <th>...</th>\n",
       "      <td>...</td>\n",
       "      <td>...</td>\n",
       "      <td>...</td>\n",
       "    </tr>\n",
       "    <tr>\n",
       "      <th>255115</th>\n",
       "      <td>530</td>\n",
       "      <td>524</td>\n",
       "      <td>0.1250</td>\n",
       "    </tr>\n",
       "    <tr>\n",
       "      <th>255116</th>\n",
       "      <td>530</td>\n",
       "      <td>525</td>\n",
       "      <td>0.0625</td>\n",
       "    </tr>\n",
       "    <tr>\n",
       "      <th>255117</th>\n",
       "      <td>530</td>\n",
       "      <td>526</td>\n",
       "      <td>0.0625</td>\n",
       "    </tr>\n",
       "    <tr>\n",
       "      <th>255118</th>\n",
       "      <td>530</td>\n",
       "      <td>527</td>\n",
       "      <td>0.2500</td>\n",
       "    </tr>\n",
       "    <tr>\n",
       "      <th>255119</th>\n",
       "      <td>530</td>\n",
       "      <td>529</td>\n",
       "      <td>0.1250</td>\n",
       "    </tr>\n",
       "  </tbody>\n",
       "</table>\n",
       "<p>255120 rows × 3 columns</p>\n",
       "</div>"
      ],
      "text/plain": [
       "        user_id_1  user_id_2  similarity\n",
       "0               1          2      0.0625\n",
       "1               1          3      0.1250\n",
       "2               1          4      0.0625\n",
       "3               1          5      0.0625\n",
       "4               1          6      0.1250\n",
       "...           ...        ...         ...\n",
       "255115        530        524      0.1250\n",
       "255116        530        525      0.0625\n",
       "255117        530        526      0.0625\n",
       "255118        530        527      0.2500\n",
       "255119        530        529      0.1250\n",
       "\n",
       "[255120 rows x 3 columns]"
      ]
     },
     "execution_count": 129,
     "metadata": {},
     "output_type": "execute_result"
    }
   ],
   "source": [
    "user_similarity_frac"
   ]
  },
  {
   "cell_type": "code",
   "execution_count": 133,
   "id": "a5b28f21-6090-4aaf-baaf-75cd6e4a24cf",
   "metadata": {},
   "outputs": [
    {
     "data": {
      "text/plain": [
       "<Axes: xlabel='similarity', ylabel='Count'>"
      ]
     },
     "execution_count": 133,
     "metadata": {},
     "output_type": "execute_result"
    },
    {
     "data": {
      "image/png": "[encoded data removed]",
      "text/plain": [
       "<Figure size 640x480 with 1 Axes>"
      ]
     },
     "metadata": {},
     "output_type": "display_data"
    }
   ],
   "source": [
    "sns.histplot(user_similarity_frac['similarity'], bins=10)"
   ]
  },
  {
   "cell_type": "markdown",
   "id": "73b41e2e-28f7-4a34-afe3-405f8e4c13f1",
   "metadata": {},
   "source": [
    "<h4>Исходя из данных на графике, выбросов нет, поэтому сразу проверяем время написания и долю правильных ответов.</h4>"
   ]
  },
  {
   "cell_type": "code",
   "execution_count": 108,
   "id": "ef98fe77-f159-4e35-9cad-1be8c52063da",
   "metadata": {},
   "outputs": [
    {
     "data": {
      "text/html": [
       "<div>\n",
       "<style scoped>\n",
       "    .dataframe tbody tr th:only-of-type {\n",
       "        vertical-align: middle;\n",
       "    }\n",
       "\n",
       "    .dataframe tbody tr th {\n",
       "        vertical-align: top;\n",
       "    }\n",
       "\n",
       "    .dataframe thead th {\n",
       "        text-align: right;\n",
       "    }\n",
       "</style>\n",
       "<table border=\"1\" class=\"dataframe\">\n",
       "  <thead>\n",
       "    <tr style=\"text-align: right;\">\n",
       "      <th></th>\n",
       "      <th>exam_id</th>\n",
       "      <th>user_id</th>\n",
       "      <th>task_ind</th>\n",
       "      <th>answer</th>\n",
       "      <th>verdict</th>\n",
       "      <th>time</th>\n",
       "    </tr>\n",
       "  </thead>\n",
       "  <tbody>\n",
       "    <tr>\n",
       "      <th>2240</th>\n",
       "      <td>2</td>\n",
       "      <td>277</td>\n",
       "      <td>1</td>\n",
       "      <td>1</td>\n",
       "      <td>WA</td>\n",
       "      <td>2023-12-20 11:59:40</td>\n",
       "    </tr>\n",
       "    <tr>\n",
       "      <th>2241</th>\n",
       "      <td>2</td>\n",
       "      <td>277</td>\n",
       "      <td>2</td>\n",
       "      <td>2</td>\n",
       "      <td>WA</td>\n",
       "      <td>2023-12-20 12:01:32</td>\n",
       "    </tr>\n",
       "    <tr>\n",
       "      <th>2242</th>\n",
       "      <td>2</td>\n",
       "      <td>277</td>\n",
       "      <td>3</td>\n",
       "      <td>2</td>\n",
       "      <td>WA</td>\n",
       "      <td>2023-12-20 12:01:34</td>\n",
       "    </tr>\n",
       "    <tr>\n",
       "      <th>2243</th>\n",
       "      <td>2</td>\n",
       "      <td>277</td>\n",
       "      <td>4</td>\n",
       "      <td>1</td>\n",
       "      <td>WA</td>\n",
       "      <td>2023-12-20 12:02:41</td>\n",
       "    </tr>\n",
       "    <tr>\n",
       "      <th>2244</th>\n",
       "      <td>2</td>\n",
       "      <td>422</td>\n",
       "      <td>1</td>\n",
       "      <td>2</td>\n",
       "      <td>OK</td>\n",
       "      <td>2023-12-20 10:03:53</td>\n",
       "    </tr>\n",
       "    <tr>\n",
       "      <th>...</th>\n",
       "      <td>...</td>\n",
       "      <td>...</td>\n",
       "      <td>...</td>\n",
       "      <td>...</td>\n",
       "      <td>...</td>\n",
       "      <td>...</td>\n",
       "    </tr>\n",
       "    <tr>\n",
       "      <th>4355</th>\n",
       "      <td>2</td>\n",
       "      <td>210</td>\n",
       "      <td>4</td>\n",
       "      <td>3</td>\n",
       "      <td>WA</td>\n",
       "      <td>2023-12-20 11:11:24</td>\n",
       "    </tr>\n",
       "    <tr>\n",
       "      <th>4356</th>\n",
       "      <td>2</td>\n",
       "      <td>299</td>\n",
       "      <td>1</td>\n",
       "      <td>1</td>\n",
       "      <td>WA</td>\n",
       "      <td>2023-12-20 10:35:50</td>\n",
       "    </tr>\n",
       "    <tr>\n",
       "      <th>4357</th>\n",
       "      <td>2</td>\n",
       "      <td>299</td>\n",
       "      <td>2</td>\n",
       "      <td>0</td>\n",
       "      <td>OK</td>\n",
       "      <td>2023-12-20 10:37:59</td>\n",
       "    </tr>\n",
       "    <tr>\n",
       "      <th>4358</th>\n",
       "      <td>2</td>\n",
       "      <td>299</td>\n",
       "      <td>3</td>\n",
       "      <td>2</td>\n",
       "      <td>WA</td>\n",
       "      <td>2023-12-20 10:42:58</td>\n",
       "    </tr>\n",
       "    <tr>\n",
       "      <th>4359</th>\n",
       "      <td>2</td>\n",
       "      <td>299</td>\n",
       "      <td>4</td>\n",
       "      <td>3</td>\n",
       "      <td>WA</td>\n",
       "      <td>2023-12-20 10:43:37</td>\n",
       "    </tr>\n",
       "  </tbody>\n",
       "</table>\n",
       "<p>2120 rows × 6 columns</p>\n",
       "</div>"
      ],
      "text/plain": [
       "      exam_id  user_id  task_ind  answer verdict                time\n",
       "2240        2      277         1       1      WA 2023-12-20 11:59:40\n",
       "2241        2      277         2       2      WA 2023-12-20 12:01:32\n",
       "2242        2      277         3       2      WA 2023-12-20 12:01:34\n",
       "2243        2      277         4       1      WA 2023-12-20 12:02:41\n",
       "2244        2      422         1       2      OK 2023-12-20 10:03:53\n",
       "...       ...      ...       ...     ...     ...                 ...\n",
       "4355        2      210         4       3      WA 2023-12-20 11:11:24\n",
       "4356        2      299         1       1      WA 2023-12-20 10:35:50\n",
       "4357        2      299         2       0      OK 2023-12-20 10:37:59\n",
       "4358        2      299         3       2      WA 2023-12-20 10:42:58\n",
       "4359        2      299         4       3      WA 2023-12-20 10:43:37\n",
       "\n",
       "[2120 rows x 6 columns]"
      ]
     },
     "execution_count": 108,
     "metadata": {},
     "output_type": "execute_result"
    }
   ],
   "source": [
    "v2"
   ]
  },
  {
   "cell_type": "code",
   "execution_count": 109,
   "id": "41dcbb00-8007-4b08-b430-43292e290e6e",
   "metadata": {},
   "outputs": [
    {
     "name": "stderr",
     "output_type": "stream",
     "text": [
      "C:\\Users\\Huawei\\AppData\\Local\\Temp\\ipykernel_9192\\3132666435.py:1: SettingWithCopyWarning: \n",
      "A value is trying to be set on a copy of a slice from a DataFrame.\n",
      "Try using .loc[row_indexer,col_indexer] = value instead\n",
      "\n",
      "See the caveats in the documentation: https://pandas.pydata.org/pandas-docs/stable/user_guide/indexing.html#returning-a-view-versus-a-copy\n",
      "  v2['verdict'] = v2['verdict'].apply(lambda x: 1 if x == 'OK' else 0)\n"
     ]
    }
   ],
   "source": [
    "v2['verdict'] = v2['verdict'].apply(lambda x: 1 if x == 'OK' else 0)"
   ]
  },
  {
   "cell_type": "code",
   "execution_count": 111,
   "id": "a647b8f8-bf1f-4eca-9f1f-25fc4aa9879f",
   "metadata": {},
   "outputs": [
    {
     "data": {
      "text/html": [
       "<div>\n",
       "<style scoped>\n",
       "    .dataframe tbody tr th:only-of-type {\n",
       "        vertical-align: middle;\n",
       "    }\n",
       "\n",
       "    .dataframe tbody tr th {\n",
       "        vertical-align: top;\n",
       "    }\n",
       "\n",
       "    .dataframe thead th {\n",
       "        text-align: right;\n",
       "    }\n",
       "</style>\n",
       "<table border=\"1\" class=\"dataframe\">\n",
       "  <thead>\n",
       "    <tr style=\"text-align: right;\">\n",
       "      <th></th>\n",
       "      <th>exam_id</th>\n",
       "      <th>user_id</th>\n",
       "      <th>task_ind</th>\n",
       "      <th>answer</th>\n",
       "      <th>verdict</th>\n",
       "      <th>time</th>\n",
       "    </tr>\n",
       "  </thead>\n",
       "  <tbody>\n",
       "    <tr>\n",
       "      <th>2240</th>\n",
       "      <td>2</td>\n",
       "      <td>277</td>\n",
       "      <td>1</td>\n",
       "      <td>1</td>\n",
       "      <td>0</td>\n",
       "      <td>2023-12-20 11:59:40</td>\n",
       "    </tr>\n",
       "    <tr>\n",
       "      <th>2241</th>\n",
       "      <td>2</td>\n",
       "      <td>277</td>\n",
       "      <td>2</td>\n",
       "      <td>2</td>\n",
       "      <td>0</td>\n",
       "      <td>2023-12-20 12:01:32</td>\n",
       "    </tr>\n",
       "    <tr>\n",
       "      <th>2242</th>\n",
       "      <td>2</td>\n",
       "      <td>277</td>\n",
       "      <td>3</td>\n",
       "      <td>2</td>\n",
       "      <td>0</td>\n",
       "      <td>2023-12-20 12:01:34</td>\n",
       "    </tr>\n",
       "    <tr>\n",
       "      <th>2243</th>\n",
       "      <td>2</td>\n",
       "      <td>277</td>\n",
       "      <td>4</td>\n",
       "      <td>1</td>\n",
       "      <td>0</td>\n",
       "      <td>2023-12-20 12:02:41</td>\n",
       "    </tr>\n",
       "    <tr>\n",
       "      <th>2244</th>\n",
       "      <td>2</td>\n",
       "      <td>422</td>\n",
       "      <td>1</td>\n",
       "      <td>2</td>\n",
       "      <td>1</td>\n",
       "      <td>2023-12-20 10:03:53</td>\n",
       "    </tr>\n",
       "  </tbody>\n",
       "</table>\n",
       "</div>"
      ],
      "text/plain": [
       "      exam_id  user_id  task_ind  answer  verdict                time\n",
       "2240        2      277         1       1        0 2023-12-20 11:59:40\n",
       "2241        2      277         2       2        0 2023-12-20 12:01:32\n",
       "2242        2      277         3       2        0 2023-12-20 12:01:34\n",
       "2243        2      277         4       1        0 2023-12-20 12:02:41\n",
       "2244        2      422         1       2        1 2023-12-20 10:03:53"
      ]
     },
     "execution_count": 111,
     "metadata": {},
     "output_type": "execute_result"
    }
   ],
   "source": [
    "v2.head()"
   ]
  },
  {
   "cell_type": "code",
   "execution_count": 113,
   "id": "e3244b38-fa0e-434d-9ead-7e256a22491e",
   "metadata": {},
   "outputs": [],
   "source": [
    "v2_seq = v2[['user_id', 'verdict', 'time']] \\\n",
    "    .groupby('user_id', as_index=False) \\\n",
    "    .agg({'verdict': 'mean', 'time': 'max'}) \\\n",
    "    .rename(columns={'verdict': 'success_rate', 'time': 'endtime'}) \\\n",
    "    .sort_values('success_rate', ascending=False)\n",
    "v2_seq['endtime'] = v2_seq['endtime'].dt.hour - 10"
   ]
  },
  {
   "cell_type": "code",
   "execution_count": 116,
   "id": "d5d747ee-6e1c-441a-a4ee-97e715488843",
   "metadata": {},
   "outputs": [
    {
     "data": {
      "text/plain": [
       "<Axes: xlabel='endtime', ylabel='Count'>"
      ]
     },
     "execution_count": 116,
     "metadata": {},
     "output_type": "execute_result"
    },
    {
     "data": {
      "image/png": "[encoded data removed]",
      "text/plain": [
       "<Figure size 640x480 with 1 Axes>"
      ]
     },
     "metadata": {},
     "output_type": "display_data"
    }
   ],
   "source": [
    "sns.histplot(v2_seq['endtime'])"
   ]
  },
  {
   "cell_type": "code",
   "execution_count": 178,
   "id": "ead915b1-50f1-42c8-a1be-c447479a97e5",
   "metadata": {},
   "outputs": [],
   "source": [
    "strange_users_v2 = v2_seq[(v2_seq['endtime'] < 1.5)]"
   ]
  },
  {
   "cell_type": "code",
   "execution_count": 182,
   "id": "39a6cf13-fe2d-4f45-b94c-7d47ce4e37b4",
   "metadata": {},
   "outputs": [
    {
     "data": {
      "text/plain": [
       "<Axes: xlabel='success_rate', ylabel='Count'>"
      ]
     },
     "execution_count": 182,
     "metadata": {},
     "output_type": "execute_result"
    },
    {
     "data": {
      "image/png": "[encoded data removed]",
      "text/plain": [
       "<Figure size 640x480 with 1 Axes>"
      ]
     },
     "metadata": {},
     "output_type": "display_data"
    }
   ],
   "source": [
    "sns.histplot(strange_users_v2['success_rate'])"
   ]
  },
  {
   "cell_type": "markdown",
   "id": "b2153bb8-eba0-48ce-9073-d30e600e4741",
   "metadata": {},
   "source": [
    "<h4>Будем считать тех учеников подозрительными, у которых <b>success_rate</b> больше 0.6</h4>"
   ]
  },
  {
   "cell_type": "code",
   "execution_count": 189,
   "id": "04a7bece-ff3f-45b8-a9fe-612a40565877",
   "metadata": {},
   "outputs": [],
   "source": [
    "suspicious_students_v2 = sorted(list(set(strange_users_v2[strange_users_v2['success_rate'] > 0.6]['user_id'])))"
   ]
  },
  {
   "cell_type": "code",
   "execution_count": 190,
   "id": "aa29555a-9c7f-43da-aec4-01666ba48c1c",
   "metadata": {},
   "outputs": [
    {
     "data": {
      "text/plain": [
       "[20,\n",
       " 39,\n",
       " 42,\n",
       " 55,\n",
       " 74,\n",
       " 87,\n",
       " 123,\n",
       " 124,\n",
       " 127,\n",
       " 135,\n",
       " 141,\n",
       " 159,\n",
       " 264,\n",
       " 267,\n",
       " 298,\n",
       " 312,\n",
       " 314,\n",
       " 319,\n",
       " 368,\n",
       " 415,\n",
       " 416,\n",
       " 421,\n",
       " 460,\n",
       " 509]"
      ]
     },
     "execution_count": 190,
     "metadata": {},
     "output_type": "execute_result"
    }
   ],
   "source": [
    "suspicious_students_v2"
   ]
  },
  {
   "cell_type": "markdown",
   "id": "8bbce4a9-c997-4642-a421-1003b9981975",
   "metadata": {},
   "source": [
    "<h1>Итоги исследования</h1>"
   ]
  },
  {
   "cell_type": "code",
   "execution_count": 196,
   "id": "268bae15-dd97-4c85-a0a0-64c341598bb4",
   "metadata": {},
   "outputs": [],
   "source": [
    "# Соберем индентификаторы пользователей, которые подозреваются в списывании, в один словарь\n",
    "suspicious_students = {\n",
    "    'v1': suspicious_students_v1,\n",
    "    'v2': suspicious_students_v2\n",
    "}"
   ]
  }
 ],
 "metadata": {
  "kernelspec": {
   "display_name": "Python 3 (ipykernel)",
   "language": "python",
   "name": "python3"
  },
  "language_info": {
   "codemirror_mode": {
    "name": "ipython",
    "version": 3
   },
   "file_extension": ".py",
   "mimetype": "text/x-python",
   "name": "python",
   "nbconvert_exporter": "python",
   "pygments_lexer": "ipython3",
   "version": "3.13.1"
  }
 },
 "nbformat": 4,
 "nbformat_minor": 5
}
